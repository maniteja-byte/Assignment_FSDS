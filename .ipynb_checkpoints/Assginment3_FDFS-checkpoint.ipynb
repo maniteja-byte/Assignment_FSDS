{
 "cells": [
  {
   "cell_type": "markdown",
   "id": "8d2596d4",
   "metadata": {},
   "source": [
    "#1. Why are functions advantageous to have in your programs?\n",
    "\n",
    "Ans:\n",
    "    1. The main usse of the function is reusability of the  code.\n",
    "    2. we can divide the code in to smaller function to track down the error.\n",
    "    3. a function can be called across of the classes and functions. no need to write same code again.\n",
    "    4. time saving"
   ]
  },
  {
   "cell_type": "markdown",
   "id": "59c37e44",
   "metadata": {},
   "source": [
    "#2. When does the code in a function run: when its specified or when it's called?\n",
    "\n",
    "Ans: code in the fucntion runs when it is called "
   ]
  },
  {
   "cell_type": "markdown",
   "id": "a11b9fae",
   "metadata": {},
   "source": [
    "#3. What statement creates a function?\n",
    "\n",
    "Ans : The statement thatt creates a function using \"def\" key word.\n",
    "ex: def create():\n",
    "        pass"
   ]
  },
  {
   "cell_type": "markdown",
   "id": "45af7467",
   "metadata": {},
   "source": [
    "#4. What is the difference between a function and a function call?\n",
    "\n",
    "Ans:  Fucntion : the function is code syntax where all the logic has been written for the execution of program.\n",
    "      Function call : to execute(or) intialize (or) to run the code we need to call the function. it simply executing the code.\n",
    "      \n",
    "ex: def create():  #function\n",
    "        pass\n",
    "        \n",
    "    create() #function call"
   ]
  },
  {
   "cell_type": "markdown",
   "id": "3adc2a78",
   "metadata": {},
   "source": [
    "#5. How many global scopes are there in a Python program? How many local scopes?\n",
    "\n",
    "Ans : we have one Global Scopes in python program. it will get vanished once the program is termminated. We have one local and will be created when\n",
    "    the program is called. "
   ]
  },
  {
   "cell_type": "markdown",
   "id": "ed0c8d0f",
   "metadata": {},
   "source": [
    "6. What happens to variables in a local scope when the function call returns?\n",
    "\n",
    "Ans : variables in local scope went in to termination state once the function call returns"
   ]
  },
  {
   "cell_type": "markdown",
   "id": "a1f7897d",
   "metadata": {},
   "source": [
    "7. What is the concept of a return value? Is it possible to have a return value in an expression?\n",
    "\n",
    "Ans: we have return Value to return something once the  once we have called the fucntion. It is possible to have return value in an expression"
   ]
  },
  {
   "cell_type": "markdown",
   "id": "d41783a3",
   "metadata": {},
   "source": [
    "8. If a function does not have a return statement, what is the return value of a call to that function?\n",
    "\n",
    "\n",
    "Ans:  If a function does not have a return statement, once the Program is executed there wont be any out put if we won't give return value"
   ]
  },
  {
   "cell_type": "markdown",
   "id": "3fc1401a",
   "metadata": {},
   "source": [
    "9. How do you make a function variable refer to the global variable?\n",
    "\n",
    "Ans : we have Global key word which is used to refer the Variable ass Global variable."
   ]
  },
  {
   "cell_type": "markdown",
   "id": "8fe35034",
   "metadata": {},
   "source": [
    "10. What is the data type of None?\n",
    "\n",
    "Ans: for the the Print statement we have none value. and its datatype is Nonetype"
   ]
  },
  {
   "cell_type": "markdown",
   "id": "b1aa85db",
   "metadata": {},
   "source": [
    "11. What does the sentence import areallyourpetsnamederic do?\n",
    "\n",
    "Ans: the sentence import will help in importing the module named \"areallyourpetsnamederic\". if it is avaiable."
   ]
  },
  {
   "cell_type": "markdown",
   "id": "b5847bfc",
   "metadata": {},
   "source": [
    "12. If you had a bacon() feature in a spam module, what would you call it after importing spam?\n",
    "\n",
    "ans:\n",
    "import spam\n",
    "spam.bacon()"
   ]
  },
  {
   "cell_type": "markdown",
   "id": "636f370d",
   "metadata": {},
   "source": [
    "13. What can you do to save a programme from crashing if it encounters an error?\n",
    "\n",
    "Ans: we need to Use Exception handling in this case.\n",
    "    try\n",
    "    except\n",
    "    finally \n",
    "    else"
   ]
  },
  {
   "cell_type": "markdown",
   "id": "2a17bb31",
   "metadata": {},
   "source": [
    "14. What is the purpose of the try clause? What is the purpose of the except clause?\n",
    "\n",
    "\n",
    "Ans :\n",
    "    Try, except is exception hanlding tecchinque where we can avoid the Errors and print the Profgram without error.\n",
    "    Int try block we write code Logic block which need to executed,\n",
    "    Except block helps in identifying the error thrown try block and return it as ouput to make corrections"
   ]
  },
  {
   "cell_type": "code",
   "execution_count": null,
   "id": "4e11564a",
   "metadata": {},
   "outputs": [],
   "source": []
  }
 ],
 "metadata": {
  "kernelspec": {
   "display_name": "Python 3 (ipykernel)",
   "language": "python",
   "name": "python3"
  },
  "language_info": {
   "codemirror_mode": {
    "name": "ipython",
    "version": 3
   },
   "file_extension": ".py",
   "mimetype": "text/x-python",
   "name": "python",
   "nbconvert_exporter": "python",
   "pygments_lexer": "ipython3",
   "version": "3.9.12"
  }
 },
 "nbformat": 4,
 "nbformat_minor": 5
}
