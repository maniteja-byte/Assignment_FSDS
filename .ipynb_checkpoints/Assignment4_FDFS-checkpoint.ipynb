{
 "cells": [
  {
   "cell_type": "markdown",
   "id": "9f22c084",
   "metadata": {},
   "source": [
    "1. What exactly is []?\n",
    "\n",
    "Ans: In python [] are used to represent the List. It is similar to array unlike array it will store all the datatype values."
   ]
  },
  {
   "cell_type": "code",
   "execution_count": 1,
   "id": "70270d1d",
   "metadata": {},
   "outputs": [
    {
     "data": {
      "text/plain": [
       "[2, 4, 'hello', 8, 10]"
      ]
     },
     "execution_count": 1,
     "metadata": {},
     "output_type": "execute_result"
    }
   ],
   "source": [
    "#2.In a list of values stored in a variable called spam, how would you assign the value \"hello\" as the third value? (Assume [2, 4, 6, 8, 10] are in spam.)\n",
    "\n",
    "spam = [2,4,6,8,10]\n",
    "spam[2] = \"hello\"\n",
    "spam"
   ]
  },
  {
   "cell_type": "code",
   "execution_count": 3,
   "id": "84d17682",
   "metadata": {},
   "outputs": [
    {
     "data": {
      "text/plain": [
       "'d'"
      ]
     },
     "execution_count": 3,
     "metadata": {},
     "output_type": "execute_result"
    }
   ],
   "source": [
    "# 3.What is the value of spam[int(int('3' * 2) / 11)]?\n",
    "\n",
    "spam = ['a','b','c','d']\n",
    "spam[int(int('3' * 2) / 11)]"
   ]
  },
  {
   "cell_type": "code",
   "execution_count": 4,
   "id": "5e0563b2",
   "metadata": {},
   "outputs": [
    {
     "data": {
      "text/plain": [
       "'d'"
      ]
     },
     "execution_count": 4,
     "metadata": {},
     "output_type": "execute_result"
    }
   ],
   "source": [
    "#4. What is the value of spam[-1]?\n",
    "\n",
    "spam = ['a','b','c','d']\n",
    "spam [-1]"
   ]
  },
  {
   "cell_type": "code",
   "execution_count": 5,
   "id": "984aded9",
   "metadata": {},
   "outputs": [
    {
     "data": {
      "text/plain": [
       "['a', 'b']"
      ]
     },
     "execution_count": 5,
     "metadata": {},
     "output_type": "execute_result"
    }
   ],
   "source": [
    "#5. What is the value of spam[:2]?\n",
    "\n",
    "spam = ['a','b','c','d']\n",
    "spam[:2]"
   ]
  },
  {
   "cell_type": "code",
   "execution_count": 7,
   "id": "6436b791",
   "metadata": {},
   "outputs": [
    {
     "data": {
      "text/plain": [
       "1"
      ]
     },
     "execution_count": 7,
     "metadata": {},
     "output_type": "execute_result"
    }
   ],
   "source": [
    "#  6. What is the value of bacon.index(\"cat\")?\n",
    "\n",
    "bacon = [3.14,'cat',11,'cat',True]\n",
    "bacon.index(\"cat\")"
   ]
  },
  {
   "cell_type": "code",
   "execution_count": 11,
   "id": "13e594be",
   "metadata": {},
   "outputs": [
    {
     "data": {
      "text/plain": [
       "[3.14, 'cat', 11, 'cat', True, 99]"
      ]
     },
     "execution_count": 11,
     "metadata": {},
     "output_type": "execute_result"
    }
   ],
   "source": [
    "#7. How does bacon.append(99) change the look of the list value in bacon?\n",
    "\n",
    "bacon = [3.14,'cat',11,'cat',True]\n",
    "bacon.append(99)\n",
    "bacon"
   ]
  },
  {
   "cell_type": "code",
   "execution_count": 12,
   "id": "2de2747d",
   "metadata": {},
   "outputs": [
    {
     "data": {
      "text/plain": [
       "[3.14, 11, 'cat', True]"
      ]
     },
     "execution_count": 12,
     "metadata": {},
     "output_type": "execute_result"
    }
   ],
   "source": [
    "#8. How does bacon.remove(\"cat\") change the look of the list in bacon?\n",
    "\n",
    "bacon = [3.14,'cat',11,'cat',True]\n",
    "bacon.remove(\"cat\")\n",
    "bacon"
   ]
  },
  {
   "cell_type": "code",
   "execution_count": 14,
   "id": "84c9e673",
   "metadata": {},
   "outputs": [
    {
     "name": "stdout",
     "output_type": "stream",
     "text": [
      "[1, 2, 3, 4, 5, 6]\n",
      "[8, 9, 0, 8, 9, 0, 8, 9, 0]\n"
     ]
    }
   ],
   "source": [
    "# 9. What are the list concatenation and list replication operators?\n",
    "\n",
    "# Concatenation : addition of two lists is called concatenation\n",
    "# replication: where as multiplying of list is called as replication\n",
    "\n",
    "print([1,2,3] +[4,5,6])\n",
    "print([8,9,0]*3)"
   ]
  },
  {
   "cell_type": "markdown",
   "id": "07cff7b3",
   "metadata": {},
   "source": [
    "10. What is difference between the list methods append() and insert()?\n",
    "\n",
    "ans:\n",
    "\n",
    "Append Method appends the varaiable at thee last index\n",
    "insert method insert the varaiable at the mentioned index"
   ]
  },
  {
   "cell_type": "markdown",
   "id": "5b307ea2",
   "metadata": {},
   "source": [
    "11. What are the two methods for removing items from a list?\n",
    "\n",
    "ans:\n",
    "Remove and pop are methods for removing items in list"
   ]
  },
  {
   "cell_type": "markdown",
   "id": "ac6e18a3",
   "metadata": {},
   "source": [
    "12. Describe how list values and string values are identical.\n",
    "\n",
    "ans:\n",
    "    list and String are similar we have option to concanate, slicing, indexing \n",
    "    and we have option to use them in loop\n",
    "    we can use in and not operaters\n",
    "    can used for built in functions like len()"
   ]
  },
  {
   "cell_type": "markdown",
   "id": "7048ccf6",
   "metadata": {},
   "source": [
    "13. What's the difference between tuples and lists?\n",
    "\n",
    "ans: tuples are immutable and denoted with \"()\".\n",
    "    List are mutable and denoted with \"[]\"."
   ]
  },
  {
   "cell_type": "code",
   "execution_count": 21,
   "id": "9c8126f7",
   "metadata": {},
   "outputs": [
    {
     "data": {
      "text/plain": [
       "tuple"
      ]
     },
     "execution_count": 21,
     "metadata": {},
     "output_type": "execute_result"
    }
   ],
   "source": [
    "#14. How do you type a tuple value that only contains the integer 42?\n",
    "\n",
    "tup = (42,)\n",
    "tup\n",
    "type(tup)"
   ]
  },
  {
   "cell_type": "code",
   "execution_count": 25,
   "id": "6b7f5b8b",
   "metadata": {},
   "outputs": [
    {
     "name": "stdout",
     "output_type": "stream",
     "text": [
      "(1, 2, 3, 4, 5)\n",
      "[6, 7, 8, 9]\n"
     ]
    }
   ],
   "source": [
    "# 15. How do you get a list value's tuple form? How do you get a tuple value,s list form?\n",
    "\n",
    "l1 = [1,2,3,4,5]\n",
    "t1= (6,7,8,9)\n",
    "\n",
    "print(tuple(l1))\n",
    "print(list(t1))"
   ]
  },
  {
   "cell_type": "markdown",
   "id": "b8b4f659",
   "metadata": {},
   "source": [
    "#16. Variables that \"contain\" list values are not necessarily lists themselves. Instead, what do they contain?\n",
    "\n",
    "Ans: varaibles are not list the store the refernce values (or) it was pointed to the memory location where the list was stored"
   ]
  },
  {
   "cell_type": "markdown",
   "id": "4e5f7d52",
   "metadata": {},
   "source": [
    "17. How do you distinguish between copy.copy() and copy.deepcopy()?\n",
    "\n",
    "copy.copy() is also called shallow copy. it will copy the list but it can't copy list inside list structure.\n",
    "where as copy.copy() is similar to shallow copy but it can copy list inside list."
   ]
  },
  {
   "cell_type": "code",
   "execution_count": null,
   "id": "a745d018",
   "metadata": {},
   "outputs": [],
   "source": []
  }
 ],
 "metadata": {
  "kernelspec": {
   "display_name": "Python 3 (ipykernel)",
   "language": "python",
   "name": "python3"
  },
  "language_info": {
   "codemirror_mode": {
    "name": "ipython",
    "version": 3
   },
   "file_extension": ".py",
   "mimetype": "text/x-python",
   "name": "python",
   "nbconvert_exporter": "python",
   "pygments_lexer": "ipython3",
   "version": "3.9.12"
  }
 },
 "nbformat": 4,
 "nbformat_minor": 5
}
