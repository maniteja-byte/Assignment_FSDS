{
 "cells": [
  {
   "cell_type": "code",
   "execution_count": 3,
   "id": "37fddcc3",
   "metadata": {},
   "outputs": [
    {
     "name": "stdout",
     "output_type": "stream",
     "text": [
      "Enter the number : -4\n",
      "The number Given is a Negative number : -4\n"
     ]
    }
   ],
   "source": [
    "#1. Write a Python Program to Check if a Number is Positive, Negative or Zero?\n",
    "\n",
    "number = int(input(\"Enter the number : \"))\n",
    "if number == 0:\n",
    "    print(f\"Given number is {number}\")\n",
    "elif number >= 1:\n",
    "    print(f\"The number given is a postive number : {number}\")\n",
    "    \n",
    "else :\n",
    "    print(f\"The number Given is a Negative number : {number}\")"
   ]
  },
  {
   "cell_type": "code",
   "execution_count": 5,
   "id": "d2119e0c",
   "metadata": {},
   "outputs": [
    {
     "name": "stdout",
     "output_type": "stream",
     "text": [
      "Enter the number : 3\n",
      "The given number 3 is a odd number\n"
     ]
    }
   ],
   "source": [
    "#2. Write a Python Program to Check if a Number is Odd or Even?\n",
    "\n",
    "number = int(input(\"Enter the number : \"))\n",
    "\n",
    "if number%2 == 0:\n",
    "    print(f\"The given number {number} is a even number\")\n",
    "    \n",
    "else :\n",
    "    print(f\"The given number {number} is a odd number\")"
   ]
  },
  {
   "cell_type": "code",
   "execution_count": 18,
   "id": "5aa78359",
   "metadata": {},
   "outputs": [
    {
     "name": "stdout",
     "output_type": "stream",
     "text": [
      "Enter the year : 2012\n",
      "The Given year2012 is a leap Year\n"
     ]
    }
   ],
   "source": [
    "#3. Write a Python Program to Check Leap Year?\n",
    "\n",
    "year = int(input(\"Enter the year : \"))\n",
    "if (year%4 == 0) and (Year%100 != 0):\n",
    "    print(f\"The Given year{year} is a leap Year\")\n",
    "    \n",
    "elif (year%400 == 0) and (Year%100 != 0):\n",
    "    \n",
    "    print(f\"The Given year{year} is a leap Year\")\n",
    "\n",
    "else :\n",
    "    print(f\"the Given year {year} is not a Leap year\")"
   ]
  },
  {
   "cell_type": "code",
   "execution_count": 28,
   "id": "fe631233",
   "metadata": {},
   "outputs": [
    {
     "name": "stdout",
     "output_type": "stream",
     "text": [
      "enter the number :46\n",
      "The Given number 46 is not a Prime\n"
     ]
    }
   ],
   "source": [
    "#4. Write a Python Program to Check Prime Number?\n",
    "\n",
    "number = int(input(\"enter the number :\"))\n",
    "\n",
    "flag = False\n",
    "\n",
    "if number > 1:\n",
    "    for i in range(2,number):\n",
    "        if(number%i) == 0:\n",
    "            flag = True\n",
    "            break\n",
    "\n",
    "if flag:\n",
    "    print(f\"The Given number {number} is not a Prime\")\n",
    "else : \n",
    "    print(f\"The Given number {number} is a prime\")"
   ]
  },
  {
   "cell_type": "code",
   "execution_count": 47,
   "id": "7fa6c718",
   "metadata": {},
   "outputs": [
    {
     "name": "stdout",
     "output_type": "stream",
     "text": [
      "2\n",
      "3\n",
      "5\n",
      "7\n",
      "11\n",
      "13\n",
      "17\n",
      "19\n",
      "23\n",
      "29\n",
      "31\n",
      "37\n",
      "41\n",
      "43\n",
      "47\n",
      "53\n",
      "59\n",
      "61\n",
      "67\n",
      "71\n",
      "73\n",
      "79\n",
      "83\n",
      "89\n",
      "97\n"
     ]
    }
   ],
   "source": [
    "#5. Write a Python Program to Print all Prime Numbers in an Interval of 1-10000?\n",
    "\n",
    "number = 100\n",
    "\n",
    "for i in range(0,number):\n",
    "    if i > 1:\n",
    "        for j in range(2,i):\n",
    "            if(i%j) == 0:\n",
    "                break\n",
    "        else :\n",
    "            print(i)"
   ]
  },
  {
   "cell_type": "code",
   "execution_count": null,
   "id": "83bda29a",
   "metadata": {},
   "outputs": [],
   "source": []
  }
 ],
 "metadata": {
  "kernelspec": {
   "display_name": "Python 3 (ipykernel)",
   "language": "python",
   "name": "python3"
  },
  "language_info": {
   "codemirror_mode": {
    "name": "ipython",
    "version": 3
   },
   "file_extension": ".py",
   "mimetype": "text/x-python",
   "name": "python",
   "nbconvert_exporter": "python",
   "pygments_lexer": "ipython3",
   "version": "3.9.12"
  }
 },
 "nbformat": 4,
 "nbformat_minor": 5
}
