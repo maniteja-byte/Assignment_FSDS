{
 "cells": [
  {
   "cell_type": "code",
   "execution_count": 10,
   "id": "a52e9be1",
   "metadata": {},
   "outputs": [
    {
     "name": "stdout",
     "output_type": "stream",
     "text": [
      "enter a number for the factorial :5\n",
      "The Factorial of 5 is 120\n"
     ]
    }
   ],
   "source": [
    "#1. Write a Python Program to Find the Factorial of a Number?\n",
    "\n",
    "num = int(input(\"enter a number for the factorial :\"))\n",
    "c =1\n",
    "for i in range (1,num+1):\n",
    "    c =c * i\n",
    "\n",
    "print(f\"The Factorial of {num} is {c}\")\n"
   ]
  },
  {
   "cell_type": "code",
   "execution_count": 11,
   "id": "cffce1cc",
   "metadata": {},
   "outputs": [
    {
     "name": "stdout",
     "output_type": "stream",
     "text": [
      "enter the number to see table : 6\n",
      "6 * 1 = 6\n",
      "6 * 2 = 12\n",
      "6 * 3 = 18\n",
      "6 * 4 = 24\n",
      "6 * 5 = 30\n",
      "6 * 6 = 36\n",
      "6 * 7 = 42\n",
      "6 * 8 = 48\n",
      "6 * 9 = 54\n",
      "6 * 10 = 60\n"
     ]
    }
   ],
   "source": [
    "#2. Write a Python Program to Display the multiplication Table?\n",
    "\n",
    "num = int(input(\"enter the number to see table : \"))\n",
    "for i in range (1, 11):\n",
    "    print(f\"{num} * {i} = {num*i}\")"
   ]
  },
  {
   "cell_type": "code",
   "execution_count": 19,
   "id": "de3a6bdc",
   "metadata": {},
   "outputs": [
    {
     "name": "stdout",
     "output_type": "stream",
     "text": [
      "Enter the number for fibanocci series: 6\n",
      "0\n",
      "1\n",
      "1\n",
      "2\n",
      "3\n",
      "5\n"
     ]
    }
   ],
   "source": [
    "#3. Write a Python Program to Print the Fibonacci sequence?\n",
    "num = int(input(\"Enter the number for fibanocci series: \"))\n",
    "a = 0\n",
    "b =1\n",
    "if num <= 0:\n",
    "    print(\"The fibanoccci out put is\", a)\n",
    "else :\n",
    "    print(a, end=\"\\n\")\n",
    "    print(b, end = \"\\n\")\n",
    "    for i in range(2,num):\n",
    "        c = a+b\n",
    "        print(c, end = \"\\n\")\n",
    "        a = b\n",
    "        b = c"
   ]
  },
  {
   "cell_type": "code",
   "execution_count": 16,
   "id": "dc60b3cd",
   "metadata": {},
   "outputs": [
    {
     "name": "stdout",
     "output_type": "stream",
     "text": [
      "Enter a number to check is armstrong : 407\n",
      "407\n",
      "7\n",
      "343\n",
      "40\n",
      "0\n",
      "343\n",
      "4\n",
      "4\n",
      "407\n",
      "The given numbre 407 is a armstrong number\n"
     ]
    }
   ],
   "source": [
    "#4. Write a Python Program to Check Armstrong Number?\n",
    "\n",
    "number = int(input(\"Enter a number to check is armstrong : \"))\n",
    "sum = 0\n",
    "\n",
    "teemp = number\n",
    "while teemp > 0:\n",
    "    print(teemp)\n",
    "    i = teemp % 10\n",
    "    print(i)\n",
    "    sum += i**3\n",
    "    print(sum)\n",
    "    teemp = teemp//10\n",
    "\n",
    "if sum == number:\n",
    "    print(f\"The given numbre {number} is a armstrong number\")\n",
    "else:\n",
    "    print(f\"The given number {number} is a not an armstrong numbre\")"
   ]
  },
  {
   "cell_type": "code",
   "execution_count": 20,
   "id": "541d5d5d",
   "metadata": {},
   "outputs": [
    {
     "name": "stdout",
     "output_type": "stream",
     "text": [
      "enter a number : 408\n",
      "0\n",
      "1\n",
      "2\n",
      "3\n",
      "4\n",
      "5\n",
      "6\n",
      "7\n",
      "8\n",
      "9\n",
      "153\n",
      "370\n",
      "371\n",
      "407\n"
     ]
    }
   ],
   "source": [
    "#5. Write a Python Program to Find Armstrong Number in an Interval?\n",
    "n = int(input(\"enter a number : \"))\n",
    "for number in range(0,n):\n",
    "    sum = 0\n",
    "    power = (len(str(number)))\n",
    "    teemp = number\n",
    "    while teemp > 0:\n",
    "        i = teemp % 10\n",
    "        sum += i**power\n",
    "        teemp = teemp//10\n",
    "\n",
    "    if sum == number:\n",
    "        print(number)"
   ]
  },
  {
   "cell_type": "code",
   "execution_count": 13,
   "id": "ea76e95e",
   "metadata": {},
   "outputs": [
    {
     "name": "stdout",
     "output_type": "stream",
     "text": [
      "enter the naatural number :100\n",
      "The sum of natiral from 0 to 100 is 5050\n"
     ]
    }
   ],
   "source": [
    "#6. Write a Python Program to Find the Sum of Natural Numbers?\n",
    "\n",
    "num = int(input(\"enter the naatural number :\"))\n",
    "sum = 0\n",
    "for i in range(0,num+1):\n",
    "    sum = sum + i\n",
    "    \n",
    "print(f\"The sum of natiral from 0 to {num} is {sum}\")"
   ]
  },
  {
   "cell_type": "code",
   "execution_count": null,
   "id": "484b0cfc",
   "metadata": {},
   "outputs": [],
   "source": []
  },
  {
   "cell_type": "code",
   "execution_count": 21,
   "id": "c4769078",
   "metadata": {},
   "outputs": [
    {
     "data": {
      "text/plain": [
       "8"
      ]
     },
     "execution_count": 21,
     "metadata": {},
     "output_type": "execute_result"
    }
   ],
   "source": [
    "798%10"
   ]
  },
  {
   "cell_type": "code",
   "execution_count": 7,
   "id": "acfd570c",
   "metadata": {},
   "outputs": [
    {
     "data": {
      "text/plain": [
       "79"
      ]
     },
     "execution_count": 7,
     "metadata": {},
     "output_type": "execute_result"
    }
   ],
   "source": [
    "798//10\n"
   ]
  },
  {
   "cell_type": "code",
   "execution_count": null,
   "id": "484954d0",
   "metadata": {},
   "outputs": [],
   "source": []
  }
 ],
 "metadata": {
  "kernelspec": {
   "display_name": "Python 3 (ipykernel)",
   "language": "python",
   "name": "python3"
  },
  "language_info": {
   "codemirror_mode": {
    "name": "ipython",
    "version": 3
   },
   "file_extension": ".py",
   "mimetype": "text/x-python",
   "name": "python",
   "nbconvert_exporter": "python",
   "pygments_lexer": "ipython3",
   "version": "3.9.12"
  }
 },
 "nbformat": 4,
 "nbformat_minor": 5
}
