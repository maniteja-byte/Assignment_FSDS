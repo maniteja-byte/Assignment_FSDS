{
 "cells": [
  {
   "cell_type": "code",
   "execution_count": 6,
   "id": "9bd5dc02",
   "metadata": {},
   "outputs": [
    {
     "name": "stdout",
     "output_type": "stream",
     "text": [
      "Enter the number : 4\n",
      "Enter thee number : 2\n",
      "LCM of 4 and 2 is 8\n"
     ]
    }
   ],
   "source": [
    "#1. Write a Python Program to Find LCM?\n",
    "num1 = int(input(\"Enter the number : \"))\n",
    "num2 = int(input(\"Enter thee number : \"))\n",
    "for i in range(max(num1, num2), 1 + (num1 * num2)):\n",
    "    if ( i % num1 == 0)and (i % num2 == 0):\n",
    "        lcm = i\n",
    "print(\"LCM of\", num1, \"and\", num2, \"is\", lcm)"
   ]
  },
  {
   "cell_type": "code",
   "execution_count": 50,
   "id": "c7344207",
   "metadata": {},
   "outputs": [
    {
     "name": "stdout",
     "output_type": "stream",
     "text": [
      "Enter the number : 36\n",
      "Enter thee number : 60\n",
      "Hcf of 36 and 60 is 12\n"
     ]
    }
   ],
   "source": [
    "#2. Write a Python Program to Find HCF?\n",
    "\n",
    "num1 = int(input(\"Enter the number : \"))\n",
    "num2 = int(input(\"Enter thee number : \"))\n",
    "hcf = 1\n",
    "\n",
    "for i in range(1, min(num1, num2)):\n",
    "    if num1 % i == 0 and num2 % i == 0:\n",
    "        hcf = i\n",
    "print(\"Hcf of\", num1, \"and\", num2, \"is\", hcf)"
   ]
  },
  {
   "cell_type": "code",
   "execution_count": 17,
   "id": "ff0a4775",
   "metadata": {},
   "outputs": [
    {
     "name": "stdout",
     "output_type": "stream",
     "text": [
      "Object `Hexadecimal` not found.\n"
     ]
    }
   ],
   "source": []
  },
  {
   "cell_type": "code",
   "execution_count": 52,
   "id": "219ef0d3",
   "metadata": {},
   "outputs": [
    {
     "name": "stdout",
     "output_type": "stream",
     "text": [
      "enter the decimal value: 23\n",
      "binary : 0b10111\n",
      "octal : 0o27\n",
      "hexadecimal:  0x17\n"
     ]
    }
   ],
   "source": [
    "#3. Write a Python Program to Convert Decimal to Binary, Octal and Hexadecimal\n",
    "\n",
    "dec = int(input(\"enter the decimal value: \"))\n",
    "\n",
    "print (\"binary :\", bin(dec))\n",
    "print(\"octal :\", oct(dec))\n",
    "print(\"hexadecimal: \", hex(dec))"
   ]
  },
  {
   "cell_type": "code",
   "execution_count": 54,
   "id": "cf477a6b",
   "metadata": {},
   "outputs": [
    {
     "name": "stdout",
     "output_type": "stream",
     "text": [
      "Enter  a character like a,b,c....   g\n",
      "The Ascii value of g : 103\n"
     ]
    }
   ],
   "source": [
    "#4. Write a Python Program To Find ASCII value of a character?\n",
    "char = input(\"Enter  a character like a,b,c....   \")\n",
    "\n",
    "print(f\"The Ascii value of {char} : {ord(char)}\")"
   ]
  },
  {
   "cell_type": "code",
   "execution_count": 59,
   "id": "e26a5bc0",
   "metadata": {},
   "outputs": [
    {
     "name": "stdout",
     "output_type": "stream",
     "text": [
      "enter firrst numbeer: 5\n",
      "enter the second number: 6\n",
      "Enter u r choice off mathematcial opertaion\n",
      "                    add\n",
      "                    sub\n",
      "                    mul\n",
      "                    div\n",
      "                    div\n",
      "The divission of 5 and 6 : 0.8333333333333334\n"
     ]
    }
   ],
   "source": [
    "#5. Write a Python Program to Make a Simple Calculator with 4 basic mathematical operations?\n",
    "\n",
    "\n",
    "n1 = int(input(\"enter firrst numbeer: \"))\n",
    "n2 = int(input(\"enter the second number: \"))\n",
    "choice =  input(\"\"\"Enter u r choice off mathematcial opertaion\n",
    "                    add\n",
    "                    sub\n",
    "                    mul\n",
    "                    div\n",
    "                    \"\"\")\n",
    "if choice.lower() == \"add\":\n",
    "    print(f\"The addition of {n1} and {n2} : {n1+n2}\")\n",
    "elif choice.lower() == \"sub\":\n",
    "    print(f\"The subtraction of {n1} and {n2} : {n1-n2}\")\n",
    "elif choice.lower() == \"mul\":\n",
    "    print(f\"The multiplication of {n1} and {n2} : {n1*n2}\")\n",
    "elif choice.lower() == \"div\":\n",
    "    print(f\"The divission of {n1} and {n2} : {n1/n2}\")"
   ]
  },
  {
   "cell_type": "code",
   "execution_count": 57,
   "id": "e2fe9ed1",
   "metadata": {},
   "outputs": [
    {
     "data": {
      "text/plain": [
       "'add'"
      ]
     },
     "execution_count": 57,
     "metadata": {},
     "output_type": "execute_result"
    }
   ],
   "source": [
    "c = \"Add\"\n",
    "c.lower()"
   ]
  },
  {
   "cell_type": "code",
   "execution_count": null,
   "id": "462ef47d",
   "metadata": {},
   "outputs": [],
   "source": []
  }
 ],
 "metadata": {
  "kernelspec": {
   "display_name": "Python 3 (ipykernel)",
   "language": "python",
   "name": "python3"
  },
  "language_info": {
   "codemirror_mode": {
    "name": "ipython",
    "version": 3
   },
   "file_extension": ".py",
   "mimetype": "text/x-python",
   "name": "python",
   "nbconvert_exporter": "python",
   "pygments_lexer": "ipython3",
   "version": "3.9.12"
  }
 },
 "nbformat": 4,
 "nbformat_minor": 5
}
