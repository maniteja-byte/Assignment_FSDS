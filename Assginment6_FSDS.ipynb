{
 "cells": [
  {
   "cell_type": "markdown",
   "id": "1b45acca",
   "metadata": {},
   "source": [
    "# 1. What are escape characters, and how do you use them?\n",
    "\n",
    "    Ans: we have to escape charaters n and t .\n",
    "        \n",
    "        exx : \\n , \\t"
   ]
  },
  {
   "cell_type": "markdown",
   "id": "85689ab2",
   "metadata": {},
   "source": [
    "# 2. What do the escape characters n and t stand for?\n",
    "\n",
    "n : stand for new line or next line of printing the statement\n",
    "t: stands Tab space of the return statement "
   ]
  },
  {
   "cell_type": "markdown",
   "id": "d2042777",
   "metadata": {},
   "source": [
    "# 3. What is the way to include backslash characters in a string?\n",
    "\n",
    "we need to ue two black slash to include.\n",
    "\n",
    "s = \"\\\\var\""
   ]
  },
  {
   "cell_type": "code",
   "execution_count": 3,
   "id": "ac77b16e",
   "metadata": {},
   "outputs": [
    {
     "ename": "SyntaxError",
     "evalue": "invalid syntax (2736477275.py, line 8)",
     "output_type": "error",
     "traceback": [
      "\u001b[1;36m  Input \u001b[1;32mIn [3]\u001b[1;36m\u001b[0m\n\u001b[1;33m    print('howl's are moving castle')\u001b[0m\n\u001b[1;37m                ^\u001b[0m\n\u001b[1;31mSyntaxError\u001b[0m\u001b[1;31m:\u001b[0m invalid syntax\n"
     ]
    }
   ],
   "source": [
    " # 4. The string \"Howl's Moving Castle\" is a correct value. Why isn't the single quote character in the word Howl's not escaped a problem?\n",
    "\n",
    "#    There no complication here we have used single quote for howl's if u have kept the string single quote we face issue.\n",
    "#    if we have keep it in the double quote we have different string notation so no error is thrown.\n",
    "\n",
    "\n",
    "print(\"howl's are moving casttle\")\n",
    "print('howl's are moving castle')"
   ]
  },
  {
   "cell_type": "code",
   "execution_count": 11,
   "id": "9553721c",
   "metadata": {},
   "outputs": [
    {
     "name": "stdout",
     "output_type": "stream",
     "text": [
      "i am well and goold \n",
      "how are youo odiuibng\n",
      "---------------------------\n",
      "my name is teja\n",
      "i work for company\n"
     ]
    }
   ],
   "source": [
    "# 5. How do you write a string of newlines if you don't want to use the n character?\n",
    "\n",
    "\n",
    "\n",
    "print(\"\"\"i am well and goold \n",
    "how are youo odiuibng\"\"\")\n",
    "print (\"---------------------------\")\n",
    "print(\"my name is teja\"+ \"\\n\"\n",
    "\"i work for company\")"
   ]
  },
  {
   "cell_type": "code",
   "execution_count": 13,
   "id": "2ea3c3c2",
   "metadata": {},
   "outputs": [
    {
     "name": "stdout",
     "output_type": "stream",
     "text": [
      "e\n",
      "Hello\n",
      "Hello\n",
      "lo, world\n"
     ]
    }
   ],
   "source": [
    "#6. What are the values of the given expressions?\n",
    "print(\"Hello, world\"[1])\n",
    "print(\"Hello, world\"[0:5])\n",
    "print(\"Hello, world\"[:5])\n",
    "print(\"Hello, world\"[3:])"
   ]
  },
  {
   "cell_type": "code",
   "execution_count": 16,
   "id": "d46e10cd",
   "metadata": {},
   "outputs": [
    {
     "name": "stdout",
     "output_type": "stream",
     "text": [
      "HELLO\n",
      "True\n",
      "hello\n"
     ]
    }
   ],
   "source": [
    "# 7. 7. What are the values of the following expressions?\n",
    "\n",
    "print(\"Hello\".upper())\n",
    "print(\"Hello\".upper().isupper())\n",
    "print(\"Hello\".upper().lower())"
   ]
  },
  {
   "cell_type": "code",
   "execution_count": 18,
   "id": "647efc93",
   "metadata": {},
   "outputs": [
    {
     "name": "stdout",
     "output_type": "stream",
     "text": [
      "['Remember,', 'remember,', 'the', 'fifth', 'of', 'July.']\n",
      "There-can-only-one.\n"
     ]
    }
   ],
   "source": [
    "# 8. What are the values of the following expressions?\n",
    "print(\"Remember, remember, the fifth of July.\".split())\n",
    "print('-'.join(\"There can only one.\".split()))"
   ]
  },
  {
   "cell_type": "code",
   "execution_count": 21,
   "id": "db66781b",
   "metadata": {},
   "outputs": [
    {
     "name": "stdout",
     "output_type": "stream",
     "text": [
      "**********************maniteja\n",
      "maniteja**********************\n",
      "***********maniteja***********\n"
     ]
    }
   ],
   "source": [
    "# 9. What are the methods for right-justifying, left-justifying, and centering a string?\n",
    "\n",
    "name = \"maniteja\"\n",
    "\n",
    "\n",
    "print(name.rjust(30,'*'))\n",
    "print(name.ljust(30,'*'))\n",
    "print(name.center(30,'*'))"
   ]
  },
  {
   "cell_type": "code",
   "execution_count": 22,
   "id": "5f3e8c22",
   "metadata": {},
   "outputs": [
    {
     "name": "stdout",
     "output_type": "stream",
     "text": [
      "maniteja      \n",
      "maniteja\n"
     ]
    }
   ],
   "source": [
    "# 10. What is the best way to remove whitespace characters from the start or end?\n",
    "\n",
    "name = \"     maniteja\"\n",
    "name = \"maniteja      \"\n",
    "\n",
    "print(name.lstrip())\n",
    "print(name.rstrip())\n"
   ]
  },
  {
   "cell_type": "code",
   "execution_count": null,
   "id": "d1b4771d",
   "metadata": {},
   "outputs": [],
   "source": []
  },
  {
   "cell_type": "code",
   "execution_count": null,
   "id": "5c4d6eb9",
   "metadata": {},
   "outputs": [],
   "source": []
  }
 ],
 "metadata": {
  "kernelspec": {
   "display_name": "Python 3 (ipykernel)",
   "language": "python",
   "name": "python3"
  },
  "language_info": {
   "codemirror_mode": {
    "name": "ipython",
    "version": 3
   },
   "file_extension": ".py",
   "mimetype": "text/x-python",
   "name": "python",
   "nbconvert_exporter": "python",
   "pygments_lexer": "ipython3",
   "version": "3.9.12"
  }
 },
 "nbformat": 4,
 "nbformat_minor": 5
}
