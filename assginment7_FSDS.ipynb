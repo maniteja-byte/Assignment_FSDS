{
 "cells": [
  {
   "cell_type": "markdown",
   "id": "23bbe872",
   "metadata": {},
   "source": [
    "1. What is the name of the feature responsible for generating Regex objects?\n",
    "\n",
    "\n",
    "Ans: we need to import re module and re.compile() is responsible for geenerating regex objects."
   ]
  },
  {
   "cell_type": "markdown",
   "id": "39520636",
   "metadata": {},
   "source": [
    "2. Why do raw strings often appear in Regex objects?\n",
    "\n",
    "Ans: we have to use raw strings to avoid escape charaters."
   ]
  },
  {
   "cell_type": "markdown",
   "id": "13534907",
   "metadata": {},
   "source": [
    "3. What is the return value of the search() method?\n",
    "\n",
    "\n",
    "Ans: search() method returns Match objects."
   ]
  },
  {
   "cell_type": "markdown",
   "id": "6214d0ca",
   "metadata": {},
   "source": [
    "4. From a Match item, how do you get the actual strings that match the pattern?\n",
    "\n",
    "Ans : we need to use group() method for the getting Matching patterns"
   ]
  },
  {
   "cell_type": "code",
   "execution_count": null,
   "id": "3818d03b",
   "metadata": {},
   "outputs": [],
   "source": []
  }
 ],
 "metadata": {
  "kernelspec": {
   "display_name": "Python 3 (ipykernel)",
   "language": "python",
   "name": "python3"
  },
  "language_info": {
   "codemirror_mode": {
    "name": "ipython",
    "version": 3
   },
   "file_extension": ".py",
   "mimetype": "text/x-python",
   "name": "python",
   "nbconvert_exporter": "python",
   "pygments_lexer": "ipython3",
   "version": "3.9.12"
  }
 },
 "nbformat": 4,
 "nbformat_minor": 5
}
