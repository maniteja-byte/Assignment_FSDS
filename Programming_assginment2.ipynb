{
 "cells": [
  {
   "cell_type": "code",
   "execution_count": 3,
   "id": "652cb2f9",
   "metadata": {},
   "outputs": [
    {
     "name": "stdout",
     "output_type": "stream",
     "text": [
      "Enter no.of Kilometers: 56\n",
      " The no.of miles is 34.776 after convetring the kilometers 56.0\n"
     ]
    }
   ],
   "source": [
    "# 1. Write a Python program to convert kilometers to miles?\n",
    "\n",
    "n = float(input(\"Enter no.of Kilometers: \"))\n",
    "miles = round(n * 0.621, 3)\n",
    "print(f\"The no.of miles is {miles} after convetring the kilometers {n}\")"
   ]
  },
  {
   "cell_type": "code",
   "execution_count": 6,
   "id": "7f78a522",
   "metadata": {},
   "outputs": [
    {
     "name": "stdout",
     "output_type": "stream",
     "text": [
      "Enter temperature in cesius: 37\n",
      "The temperature of 37.0°C is the same as 98.6°F\n"
     ]
    }
   ],
   "source": [
    "#2. Write a Python program to convert Celsius to Fahrenheit?\n",
    "\n",
    "n = float(input(\"Enter temperature in cesius: \"))\n",
    "fahrenheit = round((1.8 * n)+32, 1)\n",
    "print(f\"The temperature of {n}°C is the same as {fahrenheit}°F\")"
   ]
  },
  {
   "cell_type": "code",
   "execution_count": 7,
   "id": "4bd57ad9",
   "metadata": {},
   "outputs": [
    {
     "name": "stdout",
     "output_type": "stream",
     "text": [
      "Enter the calendar year you wish to see2022\n",
      "Enter the calendar month u wish to see01\n",
      "    January 2022\n",
      "Mo Tu We Th Fr Sa Su\n",
      "                1  2\n",
      " 3  4  5  6  7  8  9\n",
      "10 11 12 13 14 15 16\n",
      "17 18 19 20 21 22 23\n",
      "24 25 26 27 28 29 30\n",
      "31\n",
      "\n"
     ]
    }
   ],
   "source": [
    "# 3. Write a Python program to display calendar?\n",
    "\n",
    "import calendar\n",
    "\n",
    "year = int(input(\"Enter the calendar year you wish to see\"))\n",
    "month = int(input(\"Enter the calendar month u wish to see\"))\n",
    "\n",
    "print(calendar.month(year,month))"
   ]
  },
  {
   "cell_type": "code",
   "execution_count": 10,
   "id": "3b605eed",
   "metadata": {},
   "outputs": [
    {
     "name": "stdout",
     "output_type": "stream",
     "text": [
      "enter the valuee of a :4\n",
      "enter the valuee of b :6\n",
      "enter the valuee of c :8\n",
      "this are two solutions : (-0.75+1.1989578808281798j)   (-0.75-1.1989578808281798j)\n"
     ]
    }
   ],
   "source": [
    "#4. Write a Python program to solve quadratic equation?\n",
    "\n",
    "import cmath\n",
    "\n",
    "a = int(input(\"enter the valuee of a :\"))\n",
    "b = int(input(\"enter the valuee of b :\"))\n",
    "c = int(input(\"enter the valuee of c :\"))\n",
    "\n",
    "\n",
    "d = (b**2) - (4*a*c)\n",
    "\n",
    "x =  (-b + cmath.sqrt(d))/(2*a)\n",
    "x1 = (-b - cmath.sqrt(d))/(2*a)\n",
    "\n",
    "\n",
    "print(f\"this are two solutions : {x}   {x1}\")"
   ]
  },
  {
   "cell_type": "code",
   "execution_count": 2,
   "id": "ff4c63ca",
   "metadata": {},
   "outputs": [
    {
     "name": "stdout",
     "output_type": "stream",
     "text": [
      "enter the valuee of a :5\n",
      "enter the valuee of b :4\n",
      "A and B before swapping: 5 4\n",
      "A and B after swapping:4   5\n"
     ]
    }
   ],
   "source": [
    "#5. Write a Python program to swap two variables without temp variable?\n",
    "\n",
    "a = int(input(\"enter the valuee of a :\"))\n",
    "b = int(input(\"enter the valuee of b :\"))\n",
    "print(f\"A and B before swapping: {a} {b}\")\n",
    "\n",
    "a = a +  b\n",
    "b = a - b\n",
    "a = a -b\n",
    "\n",
    "print(f\"A and B after swapping:{a}   {b}\")\n",
    "\n"
   ]
  },
  {
   "cell_type": "code",
   "execution_count": null,
   "id": "9cb42d31",
   "metadata": {},
   "outputs": [],
   "source": []
  }
 ],
 "metadata": {
  "kernelspec": {
   "display_name": "Python 3 (ipykernel)",
   "language": "python",
   "name": "python3"
  },
  "language_info": {
   "codemirror_mode": {
    "name": "ipython",
    "version": 3
   },
   "file_extension": ".py",
   "mimetype": "text/x-python",
   "name": "python",
   "nbconvert_exporter": "python",
   "pygments_lexer": "ipython3",
   "version": "3.9.12"
  }
 },
 "nbformat": 4,
 "nbformat_minor": 5
}
