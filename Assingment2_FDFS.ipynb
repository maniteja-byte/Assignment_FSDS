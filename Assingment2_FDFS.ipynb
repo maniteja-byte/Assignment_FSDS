{
 "cells": [
  {
   "cell_type": "markdown",
   "id": "2075653a",
   "metadata": {},
   "source": [
    "#1.What are the two values of the Boolean data type? How do you write them?\n",
    "Ans :\n",
    "    The two boolean values of boolean datatype are:\n",
    "        True \n",
    "        False\n",
    "        \n",
    "ex: if True:\n",
    "        print(\"the ans\")"
   ]
  },
  {
   "cell_type": "markdown",
   "id": "ca9581c5",
   "metadata": {},
   "source": [
    "#2. What are the three different types of Boolean operators?\n",
    "\n",
    "Ans: The three different boolean operators are:\n",
    "        AND\n",
    "        OR\n",
    "        NOT\n"
   ]
  },
  {
   "cell_type": "markdown",
   "id": "6ba5d848",
   "metadata": {},
   "source": [
    "#3. Make a list of each Boolean operator&#39;s truth tables (i.e. every possible combination of Booleanvalues for the operator and what it evaluate ).\n",
    "\n",
    "Ans:\n",
    "    AND:\n",
    "    \n",
    "    True  and  True    True\n",
    "    True  and  False   False\n",
    "    False and  True    False\n",
    "    False and  False   False\n",
    "    \n",
    "    OR:\n",
    "    True  or  True     True\n",
    "    True  or  False    True\n",
    "    False or  True     True\n",
    "    False or  False    False\n",
    "    \n",
    "    \n",
    "    NOT:\n",
    "        \n",
    "    not True   False\n",
    "    \n",
    "    not False  True\n",
    "    \n",
    "    "
   ]
  },
  {
   "cell_type": "code",
   "execution_count": 1,
   "id": "c94b4362",
   "metadata": {},
   "outputs": [
    {
     "name": "stdout",
     "output_type": "stream",
     "text": [
      "False\n",
      "False\n",
      "True\n",
      "False\n",
      "False\n",
      "True\n"
     ]
    }
   ],
   "source": [
    "#4. What are the values of the following expressions?\n",
    "print((5 > 4) and (3 == 5))\n",
    "print(not (5 > 4))\n",
    "print((5 > 4) or (3 == 5))\n",
    "print(not ((5 > 4) or (3 == 5)))\n",
    "print((True and True) and (True == False))\n",
    "print((not False) or (not True))\n"
   ]
  },
  {
   "cell_type": "markdown",
   "id": "e28ad618",
   "metadata": {},
   "source": [
    "#5. What are the six comparison operators?\n",
    "\n",
    "Ans:\n",
    "    The six Camparison operators are:\n",
    "        \n",
    "        >=  greater than or equal to\n",
    "        <=  lessthan or equal to\n",
    "        >   greater than\n",
    "        <   lessthan\n",
    "        ==  equal to operator\n",
    "        !=  not equal to\n",
    "        "
   ]
  },
  {
   "cell_type": "code",
   "execution_count": null,
   "id": "fd2ee767",
   "metadata": {},
   "outputs": [],
   "source": [
    "#6. How do you tell the difference between the equal to and assignment operators?Describe a condition and when you would use one.\n",
    "\n",
    "assginment operator : '='\n",
    "Equal to operator  : '=='\n",
    "    \n",
    "    \n",
    "a = 10  #assginment operator\n",
    "\n",
    "if a == 10 :  #equal to operator"
   ]
  },
  {
   "cell_type": "code",
   "execution_count": 3,
   "id": "68685d52",
   "metadata": {},
   "outputs": [
    {
     "name": "stdout",
     "output_type": "stream",
     "text": [
      "ham\n",
      "spam\n",
      "spam\n"
     ]
    }
   ],
   "source": [
    "#7. Identify the three blocks in this code:\n",
    "\n",
    "spam = 0\n",
    "if spam == 10:\n",
    "    print(\"eggs\")\n",
    "if spam > 5:\n",
    "    print(\"bacon\")\n",
    "else:\n",
    "    print(\"ham\")\n",
    "    print(\"spam\")\n",
    "    print(\"spam\")"
   ]
  },
  {
   "cell_type": "code",
   "execution_count": 4,
   "id": "7fb2475c",
   "metadata": {},
   "outputs": [
    {
     "name": "stdout",
     "output_type": "stream",
     "text": [
      "Greetings!\n"
     ]
    }
   ],
   "source": [
    "#8. Write code that prints Hello if 1 is stored in spam, prints Howdy if 2 is stored in spam, and prints Greetings! if anything else is stored in spam.\n",
    "\n",
    "spam = 0\n",
    "\n",
    "if spam == 1:\n",
    "    print(\"Hello\")\n",
    "if spam == 2:\n",
    "    print(\"howdy\")\n",
    "else:\n",
    "    print(\"Greetings!\")"
   ]
  },
  {
   "cell_type": "code",
   "execution_count": null,
   "id": "82d8f384",
   "metadata": {},
   "outputs": [],
   "source": [
    "#9.If your programme is stuck in an endless loop, what keys you’ll press?\n"
   ]
  },
  {
   "cell_type": "code",
   "execution_count": 13,
   "id": "9554e366",
   "metadata": {},
   "outputs": [
    {
     "name": "stdout",
     "output_type": "stream",
     "text": [
      "0\n",
      "1\n",
      "2\n",
      "3\n",
      "4\n",
      "-------------------\n",
      "0\n",
      "1\n",
      "2\n",
      "3\n",
      "4\n",
      "6\n",
      "7\n",
      "8\n",
      "9\n"
     ]
    }
   ],
   "source": [
    "#10. How can you tell the difference between break and continue?\n",
    "\n",
    "#Ans: break statement breaks ends the loop once if statisfy the conditon\n",
    "#     continue statement just skips the that parrticular loop when it statisfy the condition\n",
    "\n",
    "\n",
    "for i in range(0,10):\n",
    "    if i == 5:\n",
    "        break\n",
    "    print(i)\n",
    "print(\"-------------------\")\n",
    "for i in range(0,10):\n",
    "    if i == 5:\n",
    "        continue\n",
    "    print(i)"
   ]
  },
  {
   "cell_type": "code",
   "execution_count": null,
   "id": "7bd3e11e",
   "metadata": {},
   "outputs": [],
   "source": [
    "# 11. In a for loop, what is the difference between range(10), range(0, 10), and range(0, 10, 1)?\n",
    "\n",
    "# ans:  there is no difference between all the three ranges functions.\n",
    "\n",
    "print(range(10))\n",
    "print(\"-----------------------------------------\")\n",
    "print(range(0,10))\n",
    "print(\"-----------------------------------------\")\n",
    "print(range(0,10,1))"
   ]
  },
  {
   "cell_type": "code",
   "execution_count": 20,
   "id": "d2d39595",
   "metadata": {},
   "outputs": [
    {
     "name": "stdout",
     "output_type": "stream",
     "text": [
      "1\n",
      "2\n",
      "3\n",
      "4\n",
      "5\n",
      "6\n",
      "7\n",
      "8\n",
      "9\n",
      "10\n",
      "-------------------------\n",
      "0\n",
      "1\n",
      "2\n",
      "3\n",
      "4\n",
      "5\n",
      "6\n",
      "7\n",
      "8\n",
      "9\n",
      "10\n"
     ]
    }
   ],
   "source": [
    "#12. Write a short program that prints the numbers 1 to 10 using a for loop. Then write an equivalent program that prints the numbers 1 to 10 using a while loop.\n",
    "\n",
    "for i in range(1,11):\n",
    "    print(i)\n",
    "    \n",
    "print(\"-------------------------\")\n",
    "i = 0 \n",
    "while i < 11:\n",
    "    print(i)\n",
    "    i = i+1"
   ]
  },
  {
   "cell_type": "code",
   "execution_count": null,
   "id": "62f06a1a",
   "metadata": {},
   "outputs": [],
   "source": [
    "# 13. If you had a function named bacon() inside a module named spam, how would you call it after importing spam?\n",
    "\n",
    "ans : \n",
    "    \n",
    "    spam.bacon()"
   ]
  }
 ],
 "metadata": {
  "kernelspec": {
   "display_name": "Python 3 (ipykernel)",
   "language": "python",
   "name": "python3"
  },
  "language_info": {
   "codemirror_mode": {
    "name": "ipython",
    "version": 3
   },
   "file_extension": ".py",
   "mimetype": "text/x-python",
   "name": "python",
   "nbconvert_exporter": "python",
   "pygments_lexer": "ipython3",
   "version": "3.9.12"
  }
 },
 "nbformat": 4,
 "nbformat_minor": 5
}
