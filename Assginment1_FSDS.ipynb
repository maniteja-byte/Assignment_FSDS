{
  "metadata": {
    "language_info": {
      "codemirror_mode": {
        "name": "python",
        "version": 3
      },
      "file_extension": ".py",
      "mimetype": "text/x-python",
      "name": "python",
      "nbconvert_exporter": "python",
      "pygments_lexer": "ipython3",
      "version": "3.8"
    },
    "kernelspec": {
      "name": "python",
      "display_name": "Python (Pyodide)",
      "language": "python"
    }
  },
  "nbformat_minor": 4,
  "nbformat": 4,
  "cells": [
    {
      "cell_type": "raw",
      "source": "1. In the below elements which of them are values or an expression? eg:- values can be\ninteger or string and expressions will be mathematical operators.\n*\n'hello'\n-87.8\n-\n/\n+\n6\n\n\n\n\nAns:\n\nExpression :  * , - , +, /\n\ndef : Expression is also called combination of values and Opertaors\n\nEx : a = 6+4\n\n\n\nValues : 'hello', -87.8, 6",
      "metadata": {}
    },
    {
      "cell_type": "raw",
      "source": "2. What is the difference between string and variable?\n\nAns:\n\nVariable: Variable is charater or Letter whcih is used to store the data/information. below a, age are variables\n\nEx: a = 10\n    age = 26\n\n\nString: String is combination of characters which are put inside a double Quotes and string is also a data type in python\nEx : \"Helllo World\"",
      "metadata": {}
    },
    {
      "cell_type": "raw",
      "source": "3. Describe three different data types.\n\nAns:\n\nThe Three different datatypes are:\n\n1.Boolean\n2.List\n3.Dictonary\n\n\n1. boolean: Boolean data types holds the data in the True  or False format. It is a built-in datatype\nEx: if 1 <= 2 is True\n\n\n2. List : List is a versatile datatype in Python which widely used. it look similar to array, but unlike array llist can different data types at single time\nEx : a = [\"mani\",4,4i+j,5.62]\n     print(type(a))\n     <class 'list'>\n\n3.Dictonary : Dict is a unqiue data type which can be seen only in python. Dict has speaclity to store data in Key:value format.\nEx: a= {\"k1\":\"mani\",\"k2\":4,\"k3\":[1,2,3,4,5,6]}\n    print(type(a))\n    <class 'dict'>",
      "metadata": {}
    },
    {
      "cell_type": "raw",
      "source": "4. What is an expression made up of? What do all expressions do?\n\nAns:\n\nAn Expression is made up of operands and operators. All the Experessions perfrom Arthematical operations (or) Task assgined to the Operaands will be performed\n\nx = 4+5\nprint(x)\n9",
      "metadata": {}
    },
    {
      "cell_type": "raw",
      "source": " 5. This assignment statements, like spam = 10. What is the difference between an expression and a statement?\n \n Ans: \n \n Expression: As Discussed and Expression perfroms mmathematical operations and result is assgined to the Variable\n Ex: x = 9+ 5\n     print(x)\n     9\n     \n     \n Statement : where as statement is different from Experssion, it won't perfrom the Mathematical opertaions. it was assgined to variable to display the values.\n \nx = 25\nprint(x)",
      "metadata": {}
    },
    {
      "cell_type": "raw",
      "source": "6. After running the following code, what does the variable bacon contain?\n    bacon = 22\n    bacon + 1\n\n\nOuptut :\n\nbacon = 22\nbacon + 1\n23",
      "metadata": {}
    },
    {
      "cell_type": "raw",
      "source": "7. What should the values of the following two terms be?\n'spam' + 'spamspam'\n'spam' * 3\n\noutput:\n\n'spamspamspam'\n'spamspamspam'",
      "metadata": {}
    },
    {
      "cell_type": "raw",
      "source": "8. Why is eggs a valid variable name while 100 is invalid?\n\nAns:\n\nsome of the basic Rules of variable are\n1. A vvariable should start with letter and can't start with number.\n2. A letter can be followed by Number and underssocres\n3. we can't use reserve words and built-in functions\n4. vaariable is case senstive\n\nEx: egg_100\n    egg100\n",
      "metadata": {}
    },
    {
      "cell_type": "raw",
      "source": "9. What three functions can be used to get the integer, floating-point number, or string version of a value?\n\nAns:\n\nwe have three built-in functions avaialabe to perfrom this.\n\nint()\nfloat()\nstr()\n\n\nex:\nprint(int(54.3))\nprint(float(223))\nstr(56)\n\n54\n223.0\n'56'",
      "metadata": {}
    },
    {
      "cell_type": "raw",
      "source": "10. Why does this expression cause an error? How can you fix it?\n'I have eaten' + 99 + 'burritos.'\n\nAns: \n1. String can concanate with string \n2. Interger can undergo arthematic opertaions with interger only.\n3. if the data type is  diffferent we would facing exception.\n4. here, in this we can make '99' into string and we can perfrom concanatination\n\n\nEx: 'I have eaten' + 99 + 'burritos.'\nTypeError: can only concatenate str (not \"int\") to str\n\n'I have eaten' + '99' + 'burritos.'\n'I have eaten 99 burritos.'",
      "metadata": {}
    },
    {
      "cell_type": "code",
      "source": "",
      "metadata": {},
      "execution_count": null,
      "outputs": []
    }
  ]
}