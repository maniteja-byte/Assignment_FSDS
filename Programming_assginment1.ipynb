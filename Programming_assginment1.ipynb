{
 "cells": [
  {
   "cell_type": "code",
   "execution_count": 1,
   "id": "3d631991-201b-4f00-8cf4-df0dec9fa7c7",
   "metadata": {},
   "outputs": [
    {
     "name": "stdout",
     "output_type": "stream",
     "text": [
      "Helllo Python\n"
     ]
    }
   ],
   "source": [
    "# 1. Write a Python program to print \"Hello Python\"?\n",
    "\n",
    "\n",
    "print(\"Helllo Python\")"
   ]
  },
  {
   "cell_type": "code",
   "execution_count": 4,
   "id": "63252530-59b8-42fe-89f7-60309fae285d",
   "metadata": {},
   "outputs": [
    {
     "name": "stdout",
     "output_type": "stream",
     "text": [
      "10\n",
      "2.0\n"
     ]
    }
   ],
   "source": [
    "# 2. Write a Python program to do arithmetical operations addition and division.?\n",
    "\n",
    "def add(a,b):\n",
    "    return a+b\n",
    "def div(a,b):\n",
    "    return a/b\n",
    "\n",
    "print(add(4,6))\n",
    "print(div(4,2))"
   ]
  },
  {
   "cell_type": "code",
   "execution_count": 5,
   "id": "59363bb4-a689-495d-bb1c-9c2030c7a574",
   "metadata": {},
   "outputs": [
    {
     "name": "stdin",
     "output_type": "stream",
     "text": [
      "enter the breadth of the traingle 12\n",
      "enter the height of the trinagle 23\n"
     ]
    },
    {
     "name": "stdout",
     "output_type": "stream",
     "text": [
      "Area of the triangle: 138.0\n"
     ]
    }
   ],
   "source": [
    "# 3. Write a Python program to find the area of a triangle?\n",
    "\n",
    "Breadth = int(input(\"enter the breadth of the traingle\"))\n",
    "height = int(input(\"enter the height of the trinagle\"))\n",
    "Area = 1/2 * Breadth * height\n",
    "print(f\"Area of the triangle: {Area}\")"
   ]
  },
  {
   "cell_type": "code",
   "execution_count": 8,
   "id": "a36d7d6f-93c2-4199-bc09-3ef3a6201233",
   "metadata": {},
   "outputs": [
    {
     "name": "stdout",
     "output_type": "stream",
     "text": [
      "The a:4 and b:6 before swapping\n",
      "the a :6 and b:4 after swaping\n"
     ]
    }
   ],
   "source": [
    "#4. Write a Python program to swap two variables?\n",
    "\n",
    "a = 4\n",
    "b = 6\n",
    "\n",
    "print(f\"The a:{a} and b:{b} before swapping\")\n",
    "\n",
    "temp = a\n",
    "a=b\n",
    "b=temp\n",
    "\n",
    "print(f\"the a :{a} and b:{b} after swaping\")"
   ]
  },
  {
   "cell_type": "code",
   "execution_count": 13,
   "id": "0b6b4178-1592-4e24-873a-2dabfca43e41",
   "metadata": {},
   "outputs": [
    {
     "name": "stdout",
     "output_type": "stream",
     "text": [
      "7\n"
     ]
    }
   ],
   "source": [
    "# 5.Write a Python program to generate a random number?\n",
    "\n",
    "import random\n",
    "\n",
    "print(random.randint(0,10))"
   ]
  },
  {
   "cell_type": "code",
   "execution_count": null,
   "id": "dd78f79c-1d67-4b9b-955b-74caeb545970",
   "metadata": {},
   "outputs": [],
   "source": []
  },
  {
   "cell_type": "code",
   "execution_count": null,
   "id": "8d870361-6259-4be7-b5a3-a047a9dd85bc",
   "metadata": {},
   "outputs": [],
   "source": []
  }
 ],
 "metadata": {
  "kernelspec": {
   "display_name": "Python 3 (ipykernel)",
   "language": "python",
   "name": "python3"
  },
  "language_info": {
   "codemirror_mode": {
    "name": "ipython",
    "version": 3
   },
   "file_extension": ".py",
   "mimetype": "text/x-python",
   "name": "python",
   "nbconvert_exporter": "python",
   "pygments_lexer": "ipython3",
   "version": "3.10.6"
  }
 },
 "nbformat": 4,
 "nbformat_minor": 5
}
